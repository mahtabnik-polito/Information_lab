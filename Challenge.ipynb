{
  "nbformat": 4,
  "nbformat_minor": 0,
  "metadata": {
    "colab": {
      "provenance": []
    },
    "kernelspec": {
      "name": "python3",
      "display_name": "Python 3"
    },
    "language_info": {
      "name": "python"
    }
  },
  "cells": [
    {
      "cell_type": "code",
      "execution_count": 25,
      "metadata": {
        "colab": {
          "base_uri": "https://localhost:8080/"
        },
        "id": "3DCk0T02f76K",
        "outputId": "713b932e-2d53-4bf7-8334-382ecfff0184"
      },
      "outputs": [
        {
          "output_type": "stream",
          "name": "stdout",
          "text": [
            "Success!\n",
            "A is: 4\n",
            "B is: 1\n"
          ]
        }
      ],
      "source": [
        "import random\n",
        "\n",
        "def print_numbers():\n",
        "  A= random.randint(1, 9)\n",
        "  B= random.randint(1,9)\n",
        "  C= A*B\n",
        "  \n",
        "  if C<4:\n",
        "    print(\"A is:\" , A)\n",
        "    print(\"C is:\" , C)\n",
        "\n",
        "  if C==4:\n",
        "    print(\"Success!\") \n",
        "    print(\"A is:\" , A)\n",
        "    print(\"B is:\" , B) \n",
        "  \n",
        "\n",
        "\n",
        "print_numbers()"
      ]
    }
  ]
}